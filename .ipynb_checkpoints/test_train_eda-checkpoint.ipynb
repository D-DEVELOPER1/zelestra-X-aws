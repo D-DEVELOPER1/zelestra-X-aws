{
 "cells": [
  {
   "cell_type": "markdown",
   "id": "08ef2f11-4495-4bb2-a8b6-6f81ca0898f1",
   "metadata": {},
   "source": [
    "## About this project\n",
    "You are tasked to develop a Machine Learning model that predicts \n",
    "performance degradation and potential failures in solar panels using \n",
    "historical and real-time sensor data, enabling predictive maintenance \n",
    "and optimal energy output.\n",
    "\n",
    "## steps involved\n",
    "    1. Data cleaning and EDA\n",
    "    2. Feature Engineering\n",
    "    3. Models selection\n",
    "    4. Fit the models to the datas and make Predictions\n",
    "    5. Evaluate the models\n",
    "    6. Improve through experimentation\n",
    "    7. save and reload our save data\n"
   ]
  },
  {
   "cell_type": "markdown",
   "id": "ba30b773-b93c-4ec1-b7a8-01244aa60cdb",
   "metadata": {},
   "source": [
    "## Data cleaning and EDA\n",
    "\n",
    " what we will be working on\n",
    "    1. Droping irrelevant data\n",
    "    2. Filling missing values\n",
    "    3. EDA\n",
    "        1. Grouping datas together\n",
    "        2."
   ]
  },
  {
   "cell_type": "code",
   "execution_count": 1,
   "id": "ab507747-96fa-47ac-b0f7-c5aa44883301",
   "metadata": {},
   "outputs": [],
   "source": [
    "# import all modules \n",
    "import pandas as pd\n",
    "import numpy as np\n",
    "import matplotlib.pyplot as plt\n",
    "import seaborn as sns"
   ]
  },
  {
   "cell_type": "code",
   "execution_count": 2,
   "id": "58f25cc7-39b3-4e08-8fa8-3095d729ccee",
   "metadata": {},
   "outputs": [],
   "source": [
    "test_data = pd.read_csv(\"dataset/test.csv\")\n",
    "train_data = pd.read_csv(\"dataset/train.csv\")"
   ]
  },
  {
   "cell_type": "code",
   "execution_count": 3,
   "id": "e5d5c15b-92db-4ff6-bf91-6d96ebc7af7b",
   "metadata": {},
   "outputs": [
    {
     "data": {
      "text/html": [
       "<div>\n",
       "<style scoped>\n",
       "    .dataframe tbody tr th:only-of-type {\n",
       "        vertical-align: middle;\n",
       "    }\n",
       "\n",
       "    .dataframe tbody tr th {\n",
       "        vertical-align: top;\n",
       "    }\n",
       "\n",
       "    .dataframe thead th {\n",
       "        text-align: right;\n",
       "    }\n",
       "</style>\n",
       "<table border=\"1\" class=\"dataframe\">\n",
       "  <thead>\n",
       "    <tr style=\"text-align: right;\">\n",
       "      <th></th>\n",
       "      <th>id</th>\n",
       "      <th>temperature</th>\n",
       "      <th>irradiance</th>\n",
       "      <th>humidity</th>\n",
       "      <th>panel_age</th>\n",
       "      <th>maintenance_count</th>\n",
       "      <th>soiling_ratio</th>\n",
       "      <th>voltage</th>\n",
       "      <th>current</th>\n",
       "      <th>module_temperature</th>\n",
       "      <th>cloud_coverage</th>\n",
       "      <th>wind_speed</th>\n",
       "      <th>pressure</th>\n",
       "      <th>string_id</th>\n",
       "      <th>error_code</th>\n",
       "      <th>installation_type</th>\n",
       "    </tr>\n",
       "  </thead>\n",
       "  <tbody>\n",
       "    <tr>\n",
       "      <th>0</th>\n",
       "      <td>0</td>\n",
       "      <td>17.618379</td>\n",
       "      <td>85.449838</td>\n",
       "      <td>90.81542277591531</td>\n",
       "      <td>13.910963</td>\n",
       "      <td>6.0</td>\n",
       "      <td>0.889765</td>\n",
       "      <td>6.370396</td>\n",
       "      <td>0.069101</td>\n",
       "      <td>19.517274</td>\n",
       "      <td>33.509889</td>\n",
       "      <td>7.1819582155525445</td>\n",
       "      <td>1034.782455188643</td>\n",
       "      <td>C3</td>\n",
       "      <td>E01</td>\n",
       "      <td>tracking</td>\n",
       "    </tr>\n",
       "    <tr>\n",
       "      <th>1</th>\n",
       "      <td>1</td>\n",
       "      <td>34.826323</td>\n",
       "      <td>722.801748</td>\n",
       "      <td>20.98299301574633</td>\n",
       "      <td>20.916528</td>\n",
       "      <td>4.0</td>\n",
       "      <td>0.590372</td>\n",
       "      <td>30.095867</td>\n",
       "      <td>1.713852</td>\n",
       "      <td>37.421443</td>\n",
       "      <td>32.327060</td>\n",
       "      <td>4.184581989921003</td>\n",
       "      <td>992.3197520437311</td>\n",
       "      <td>D4</td>\n",
       "      <td>E00</td>\n",
       "      <td>NaN</td>\n",
       "    </tr>\n",
       "    <tr>\n",
       "      <th>2</th>\n",
       "      <td>2</td>\n",
       "      <td>33.776934</td>\n",
       "      <td>485.491998</td>\n",
       "      <td>55.61404977577451</td>\n",
       "      <td>1.446962</td>\n",
       "      <td>3.0</td>\n",
       "      <td>0.611425</td>\n",
       "      <td>28.424430</td>\n",
       "      <td>1.696936</td>\n",
       "      <td>32.147763</td>\n",
       "      <td>69.613333</td>\n",
       "      <td>6.25944104775485</td>\n",
       "      <td>999.2134568588949</td>\n",
       "      <td>D4</td>\n",
       "      <td>E01</td>\n",
       "      <td>dual-axis</td>\n",
       "    </tr>\n",
       "    <tr>\n",
       "      <th>3</th>\n",
       "      <td>3</td>\n",
       "      <td>18.584189</td>\n",
       "      <td>350.022720</td>\n",
       "      <td>49.04476645510075</td>\n",
       "      <td>18.810133</td>\n",
       "      <td>5.0</td>\n",
       "      <td>NaN</td>\n",
       "      <td>7.848038</td>\n",
       "      <td>0.787188</td>\n",
       "      <td>25.734118</td>\n",
       "      <td>42.862760</td>\n",
       "      <td>2.7696074663593944</td>\n",
       "      <td>1026.6500782154521</td>\n",
       "      <td>C3</td>\n",
       "      <td>E02</td>\n",
       "      <td>dual-axis</td>\n",
       "    </tr>\n",
       "    <tr>\n",
       "      <th>4</th>\n",
       "      <td>4</td>\n",
       "      <td>43.044908</td>\n",
       "      <td>437.295622</td>\n",
       "      <td>8.761571340027164</td>\n",
       "      <td>NaN</td>\n",
       "      <td>8.0</td>\n",
       "      <td>0.564938</td>\n",
       "      <td>12.300717</td>\n",
       "      <td>1.867620</td>\n",
       "      <td>NaN</td>\n",
       "      <td>51.025763</td>\n",
       "      <td>11.846974043208318</td>\n",
       "      <td>1010.809942771749</td>\n",
       "      <td>B2</td>\n",
       "      <td>NaN</td>\n",
       "      <td>fixed</td>\n",
       "    </tr>\n",
       "  </tbody>\n",
       "</table>\n",
       "</div>"
      ],
      "text/plain": [
       "   id  temperature  irradiance           humidity  panel_age  \\\n",
       "0   0    17.618379   85.449838  90.81542277591531  13.910963   \n",
       "1   1    34.826323  722.801748  20.98299301574633  20.916528   \n",
       "2   2    33.776934  485.491998  55.61404977577451   1.446962   \n",
       "3   3    18.584189  350.022720  49.04476645510075  18.810133   \n",
       "4   4    43.044908  437.295622  8.761571340027164        NaN   \n",
       "\n",
       "   maintenance_count  soiling_ratio    voltage   current  module_temperature  \\\n",
       "0                6.0       0.889765   6.370396  0.069101           19.517274   \n",
       "1                4.0       0.590372  30.095867  1.713852           37.421443   \n",
       "2                3.0       0.611425  28.424430  1.696936           32.147763   \n",
       "3                5.0            NaN   7.848038  0.787188           25.734118   \n",
       "4                8.0       0.564938  12.300717  1.867620                 NaN   \n",
       "\n",
       "   cloud_coverage          wind_speed            pressure string_id  \\\n",
       "0       33.509889  7.1819582155525445   1034.782455188643        C3   \n",
       "1       32.327060   4.184581989921003   992.3197520437311        D4   \n",
       "2       69.613333    6.25944104775485   999.2134568588949        D4   \n",
       "3       42.862760  2.7696074663593944  1026.6500782154521        C3   \n",
       "4       51.025763  11.846974043208318   1010.809942771749        B2   \n",
       "\n",
       "  error_code installation_type  \n",
       "0        E01          tracking  \n",
       "1        E00               NaN  \n",
       "2        E01         dual-axis  \n",
       "3        E02         dual-axis  \n",
       "4        NaN             fixed  "
      ]
     },
     "execution_count": 3,
     "metadata": {},
     "output_type": "execute_result"
    }
   ],
   "source": [
    "test_data.head()"
   ]
  },
  {
   "cell_type": "code",
   "execution_count": 4,
   "id": "13ccb1f1-32dc-4544-abc2-b99763d88ff7",
   "metadata": {},
   "outputs": [
    {
     "name": "stdout",
     "output_type": "stream",
     "text": [
      "<class 'pandas.core.frame.DataFrame'>\n",
      "RangeIndex: 12000 entries, 0 to 11999\n",
      "Data columns (total 16 columns):\n",
      " #   Column              Non-Null Count  Dtype  \n",
      "---  ------              --------------  -----  \n",
      " 0   id                  12000 non-null  int64  \n",
      " 1   temperature         11418 non-null  float64\n",
      " 2   irradiance          11385 non-null  float64\n",
      " 3   humidity            12000 non-null  object \n",
      " 4   panel_age           11393 non-null  float64\n",
      " 5   maintenance_count   11391 non-null  float64\n",
      " 6   soiling_ratio       11390 non-null  float64\n",
      " 7   voltage             11453 non-null  float64\n",
      " 8   current             11413 non-null  float64\n",
      " 9   module_temperature  11420 non-null  float64\n",
      " 10  cloud_coverage      11418 non-null  float64\n",
      " 11  wind_speed          12000 non-null  object \n",
      " 12  pressure            12000 non-null  object \n",
      " 13  string_id           12000 non-null  object \n",
      " 14  error_code          8389 non-null   object \n",
      " 15  installation_type   9021 non-null   object \n",
      "dtypes: float64(9), int64(1), object(6)\n",
      "memory usage: 1.5+ MB\n"
     ]
    }
   ],
   "source": [
    "test_data.info()"
   ]
  },
  {
   "cell_type": "code",
   "execution_count": 5,
   "id": "11851360-90a6-4e30-8a7e-ee4b5e763253",
   "metadata": {},
   "outputs": [
    {
     "data": {
      "text/plain": [
       "Index(['id', 'temperature', 'irradiance', 'humidity', 'panel_age',\n",
       "       'maintenance_count', 'soiling_ratio', 'voltage', 'current',\n",
       "       'module_temperature', 'cloud_coverage', 'wind_speed', 'pressure',\n",
       "       'string_id', 'error_code', 'installation_type'],\n",
       "      dtype='object')"
      ]
     },
     "execution_count": 5,
     "metadata": {},
     "output_type": "execute_result"
    }
   ],
   "source": [
    "test_data.columns"
   ]
  },
  {
   "cell_type": "code",
   "execution_count": 6,
   "id": "0d6af16f-bee7-45b2-afef-64a8bb6a7106",
   "metadata": {
    "scrolled": true
   },
   "outputs": [
    {
     "data": {
      "text/plain": [
       "id                       0\n",
       "temperature            582\n",
       "irradiance             615\n",
       "humidity                 0\n",
       "panel_age              607\n",
       "maintenance_count      609\n",
       "soiling_ratio          610\n",
       "voltage                547\n",
       "current                587\n",
       "module_temperature     580\n",
       "cloud_coverage         582\n",
       "wind_speed               0\n",
       "pressure                 0\n",
       "string_id                0\n",
       "error_code            3611\n",
       "installation_type     2979\n",
       "dtype: int64"
      ]
     },
     "execution_count": 6,
     "metadata": {},
     "output_type": "execute_result"
    }
   ],
   "source": [
    "#finding missing values\n",
    "test_data.isnull().sum()"
   ]
  },
  {
   "cell_type": "code",
   "execution_count": 7,
   "id": "461cffcd-e8f1-4abe-937e-1dd39dfa43f3",
   "metadata": {},
   "outputs": [
    {
     "data": {
      "text/plain": [
       "<bound method IndexOpsMixin.value_counts of 0        13.910963\n",
       "1        20.916528\n",
       "2         1.446962\n",
       "3        18.810133\n",
       "4              NaN\n",
       "           ...    \n",
       "11995     4.508170\n",
       "11996     4.021203\n",
       "11997    15.253932\n",
       "11998    16.437613\n",
       "11999     2.150407\n",
       "Name: panel_age, Length: 12000, dtype: float64>"
      ]
     },
     "execution_count": 7,
     "metadata": {},
     "output_type": "execute_result"
    }
   ],
   "source": [
    "test_data[\"panel_age\"].value_counts"
   ]
  },
  {
   "cell_type": "code",
   "execution_count": 8,
   "id": "e3cb4559-8c1b-4578-bb7d-93bae0623621",
   "metadata": {},
   "outputs": [
    {
     "data": {
      "text/plain": [
       "17.402885481588815"
      ]
     },
     "execution_count": 8,
     "metadata": {},
     "output_type": "execute_result"
    }
   ],
   "source": [
    "test_data[\"panel_age\"].median()"
   ]
  },
  {
   "cell_type": "code",
   "execution_count": 9,
   "id": "b9044336-c7c9-49ca-834e-9de0c6d90c8f",
   "metadata": {},
   "outputs": [
    {
     "data": {
      "text/plain": [
       "np.float64(17.47359362215461)"
      ]
     },
     "execution_count": 9,
     "metadata": {},
     "output_type": "execute_result"
    }
   ],
   "source": [
    "test_data[\"panel_age\"].mean()"
   ]
  },
  {
   "cell_type": "code",
   "execution_count": 10,
   "id": "19b8f424-2cb7-41bb-96e0-ba6729625ef5",
   "metadata": {},
   "outputs": [
    {
     "name": "stdout",
     "output_type": "stream",
     "text": [
      "id\n",
      "temperature\n",
      "irradiance\n",
      "panel_age\n",
      "maintenance_count\n",
      "soiling_ratio\n",
      "voltage\n",
      "current\n",
      "module_temperature\n",
      "cloud_coverage\n"
     ]
    }
   ],
   "source": [
    "for label, content in test_data.items():\n",
    "    if pd.api.types.is_numeric_dtype(content):\n",
    "        print(label)"
   ]
  },
  {
   "cell_type": "code",
   "execution_count": 11,
   "id": "4de69551-8e74-495c-9745-a9a3029c373a",
   "metadata": {},
   "outputs": [
    {
     "name": "stdout",
     "output_type": "stream",
     "text": [
      "temperature\n",
      "irradiance\n",
      "panel_age\n",
      "maintenance_count\n",
      "soiling_ratio\n",
      "voltage\n",
      "current\n",
      "module_temperature\n",
      "cloud_coverage\n"
     ]
    }
   ],
   "source": [
    "for label, content in test_data.items():\n",
    "    if pd.api.types.is_numeric_dtype(content):\n",
    "        if pd.isnull(content).sum():\n",
    "            print(label)"
   ]
  },
  {
   "cell_type": "code",
   "execution_count": 12,
   "id": "0cb60f6d-b1b2-4fc8-a4c4-88ca95d4600c",
   "metadata": {},
   "outputs": [],
   "source": [
    "for label, content in test_data.items():\n",
    "    if pd.api.types.is_numeric_dtype(content):\n",
    "        if pd.isnull(content).sum():\n",
    "            test_data[label] = content.fillna(content.median())"
   ]
  },
  {
   "cell_type": "code",
   "execution_count": 13,
   "id": "d48c4e58-db74-4a25-b721-ba913e7f12bf",
   "metadata": {},
   "outputs": [],
   "source": [
    "for label, content in test_data.items():\n",
    "    if pd.api.types.is_numeric_dtype(content):\n",
    "        if pd.isnull(content).sum():\n",
    "            print(label)"
   ]
  },
  {
   "cell_type": "code",
   "execution_count": 14,
   "id": "e4d5e992-586a-4c2a-aac7-c89a0702b13b",
   "metadata": {},
   "outputs": [
    {
     "data": {
      "text/plain": [
       "id                       0\n",
       "temperature              0\n",
       "irradiance               0\n",
       "humidity                 0\n",
       "panel_age                0\n",
       "maintenance_count        0\n",
       "soiling_ratio            0\n",
       "voltage                  0\n",
       "current                  0\n",
       "module_temperature       0\n",
       "cloud_coverage           0\n",
       "wind_speed               0\n",
       "pressure                 0\n",
       "string_id                0\n",
       "error_code            3611\n",
       "installation_type     2979\n",
       "dtype: int64"
      ]
     },
     "execution_count": 14,
     "metadata": {},
     "output_type": "execute_result"
    }
   ],
   "source": [
    "test_data.isnull().sum()"
   ]
  },
  {
   "cell_type": "code",
   "execution_count": 15,
   "id": "1c4b9c19-1039-462b-840e-c923809007e4",
   "metadata": {},
   "outputs": [
    {
     "name": "stdout",
     "output_type": "stream",
     "text": [
      "humidity\n",
      "wind_speed\n",
      "pressure\n",
      "string_id\n",
      "error_code\n",
      "installation_type\n"
     ]
    }
   ],
   "source": [
    "for label, content in test_data.items():\n",
    "    if not pd.api.types.is_numeric_dtype(content):\n",
    "        print(label)"
   ]
  },
  {
   "cell_type": "code",
   "execution_count": 16,
   "id": "1f94f6ad-2467-4db3-b1aa-e4701b12e85c",
   "metadata": {},
   "outputs": [
    {
     "name": "stdout",
     "output_type": "stream",
     "text": [
      "error_code\n",
      "installation_type\n"
     ]
    }
   ],
   "source": [
    "for label, content in test_data.items():\n",
    "    if not pd.api.types.is_numeric_dtype(content):\n",
    "        if pd.isnull(content).sum():\n",
    "            print(label)"
   ]
  },
  {
   "cell_type": "code",
   "execution_count": 17,
   "id": "1d10a0c3-029c-4bf0-9354-45ea12121857",
   "metadata": {},
   "outputs": [],
   "source": [
    "for label, content in test_data.items():\n",
    "    if not pd.api.types.is_numeric_dtype(content):\n",
    "        test_data[label] = pd.Categorical(content).codes + 1"
   ]
  },
  {
   "cell_type": "code",
   "execution_count": 18,
   "id": "4e9f8d65-fa70-4db0-86a8-4481e0bb678f",
   "metadata": {},
   "outputs": [
    {
     "data": {
      "text/plain": [
       "id                    0\n",
       "temperature           0\n",
       "irradiance            0\n",
       "humidity              0\n",
       "panel_age             0\n",
       "maintenance_count     0\n",
       "soiling_ratio         0\n",
       "voltage               0\n",
       "current               0\n",
       "module_temperature    0\n",
       "cloud_coverage        0\n",
       "wind_speed            0\n",
       "pressure              0\n",
       "string_id             0\n",
       "error_code            0\n",
       "installation_type     0\n",
       "dtype: int64"
      ]
     },
     "execution_count": 18,
     "metadata": {},
     "output_type": "execute_result"
    }
   ],
   "source": [
    "test_data.isnull().sum()"
   ]
  },
  {
   "cell_type": "code",
   "execution_count": 19,
   "id": "c3613a3a-3df7-4a70-b016-bd0a61837ae8",
   "metadata": {},
   "outputs": [
    {
     "data": {
      "text/html": [
       "<div>\n",
       "<style scoped>\n",
       "    .dataframe tbody tr th:only-of-type {\n",
       "        vertical-align: middle;\n",
       "    }\n",
       "\n",
       "    .dataframe tbody tr th {\n",
       "        vertical-align: top;\n",
       "    }\n",
       "\n",
       "    .dataframe thead th {\n",
       "        text-align: right;\n",
       "    }\n",
       "</style>\n",
       "<table border=\"1\" class=\"dataframe\">\n",
       "  <thead>\n",
       "    <tr style=\"text-align: right;\">\n",
       "      <th></th>\n",
       "      <th>id</th>\n",
       "      <th>temperature</th>\n",
       "      <th>irradiance</th>\n",
       "      <th>humidity</th>\n",
       "      <th>panel_age</th>\n",
       "      <th>maintenance_count</th>\n",
       "      <th>soiling_ratio</th>\n",
       "      <th>voltage</th>\n",
       "      <th>current</th>\n",
       "      <th>module_temperature</th>\n",
       "      <th>cloud_coverage</th>\n",
       "      <th>wind_speed</th>\n",
       "      <th>pressure</th>\n",
       "      <th>string_id</th>\n",
       "      <th>error_code</th>\n",
       "      <th>installation_type</th>\n",
       "    </tr>\n",
       "  </thead>\n",
       "  <tbody>\n",
       "    <tr>\n",
       "      <th>0</th>\n",
       "      <td>0</td>\n",
       "      <td>17.618379</td>\n",
       "      <td>85.449838</td>\n",
       "      <td>10829</td>\n",
       "      <td>13.910963</td>\n",
       "      <td>6.0</td>\n",
       "      <td>0.889765</td>\n",
       "      <td>6.370396</td>\n",
       "      <td>0.069101</td>\n",
       "      <td>19.517274</td>\n",
       "      <td>33.509889</td>\n",
       "      <td>9669</td>\n",
       "      <td>10607</td>\n",
       "      <td>3</td>\n",
       "      <td>2</td>\n",
       "      <td>3</td>\n",
       "    </tr>\n",
       "    <tr>\n",
       "      <th>1</th>\n",
       "      <td>1</td>\n",
       "      <td>34.826323</td>\n",
       "      <td>722.801748</td>\n",
       "      <td>1675</td>\n",
       "      <td>20.916528</td>\n",
       "      <td>4.0</td>\n",
       "      <td>0.590372</td>\n",
       "      <td>30.095867</td>\n",
       "      <td>1.713852</td>\n",
       "      <td>37.421443</td>\n",
       "      <td>32.327060</td>\n",
       "      <td>7240</td>\n",
       "      <td>11032</td>\n",
       "      <td>4</td>\n",
       "      <td>1</td>\n",
       "      <td>0</td>\n",
       "    </tr>\n",
       "    <tr>\n",
       "      <th>2</th>\n",
       "      <td>2</td>\n",
       "      <td>33.776934</td>\n",
       "      <td>485.491998</td>\n",
       "      <td>6160</td>\n",
       "      <td>1.446962</td>\n",
       "      <td>3.0</td>\n",
       "      <td>0.611425</td>\n",
       "      <td>28.424430</td>\n",
       "      <td>1.696936</td>\n",
       "      <td>32.147763</td>\n",
       "      <td>69.613333</td>\n",
       "      <td>8943</td>\n",
       "      <td>11783</td>\n",
       "      <td>4</td>\n",
       "      <td>2</td>\n",
       "      <td>1</td>\n",
       "    </tr>\n",
       "    <tr>\n",
       "      <th>3</th>\n",
       "      <td>3</td>\n",
       "      <td>18.584189</td>\n",
       "      <td>350.022720</td>\n",
       "      <td>5250</td>\n",
       "      <td>18.810133</td>\n",
       "      <td>5.0</td>\n",
       "      <td>0.697455</td>\n",
       "      <td>7.848038</td>\n",
       "      <td>0.787188</td>\n",
       "      <td>25.734118</td>\n",
       "      <td>42.862760</td>\n",
       "      <td>6201</td>\n",
       "      <td>9772</td>\n",
       "      <td>3</td>\n",
       "      <td>3</td>\n",
       "      <td>1</td>\n",
       "    </tr>\n",
       "    <tr>\n",
       "      <th>4</th>\n",
       "      <td>4</td>\n",
       "      <td>43.044908</td>\n",
       "      <td>437.295622</td>\n",
       "      <td>9385</td>\n",
       "      <td>17.402885</td>\n",
       "      <td>8.0</td>\n",
       "      <td>0.564938</td>\n",
       "      <td>12.300717</td>\n",
       "      <td>1.867620</td>\n",
       "      <td>29.952897</td>\n",
       "      <td>51.025763</td>\n",
       "      <td>3097</td>\n",
       "      <td>3687</td>\n",
       "      <td>2</td>\n",
       "      <td>0</td>\n",
       "      <td>2</td>\n",
       "    </tr>\n",
       "  </tbody>\n",
       "</table>\n",
       "</div>"
      ],
      "text/plain": [
       "   id  temperature  irradiance  humidity  panel_age  maintenance_count  \\\n",
       "0   0    17.618379   85.449838     10829  13.910963                6.0   \n",
       "1   1    34.826323  722.801748      1675  20.916528                4.0   \n",
       "2   2    33.776934  485.491998      6160   1.446962                3.0   \n",
       "3   3    18.584189  350.022720      5250  18.810133                5.0   \n",
       "4   4    43.044908  437.295622      9385  17.402885                8.0   \n",
       "\n",
       "   soiling_ratio    voltage   current  module_temperature  cloud_coverage  \\\n",
       "0       0.889765   6.370396  0.069101           19.517274       33.509889   \n",
       "1       0.590372  30.095867  1.713852           37.421443       32.327060   \n",
       "2       0.611425  28.424430  1.696936           32.147763       69.613333   \n",
       "3       0.697455   7.848038  0.787188           25.734118       42.862760   \n",
       "4       0.564938  12.300717  1.867620           29.952897       51.025763   \n",
       "\n",
       "   wind_speed  pressure  string_id  error_code  installation_type  \n",
       "0        9669     10607          3           2                  3  \n",
       "1        7240     11032          4           1                  0  \n",
       "2        8943     11783          4           2                  1  \n",
       "3        6201      9772          3           3                  1  \n",
       "4        3097      3687          2           0                  2  "
      ]
     },
     "execution_count": 19,
     "metadata": {},
     "output_type": "execute_result"
    }
   ],
   "source": [
    "test_data.head()"
   ]
  },
  {
   "cell_type": "code",
   "execution_count": 20,
   "id": "ea946553-c5f6-41a8-9b77-785aee5ba4b2",
   "metadata": {},
   "outputs": [
    {
     "data": {
      "text/html": [
       "<div>\n",
       "<style scoped>\n",
       "    .dataframe tbody tr th:only-of-type {\n",
       "        vertical-align: middle;\n",
       "    }\n",
       "\n",
       "    .dataframe tbody tr th {\n",
       "        vertical-align: top;\n",
       "    }\n",
       "\n",
       "    .dataframe thead th {\n",
       "        text-align: right;\n",
       "    }\n",
       "</style>\n",
       "<table border=\"1\" class=\"dataframe\">\n",
       "  <thead>\n",
       "    <tr style=\"text-align: right;\">\n",
       "      <th></th>\n",
       "      <th>id</th>\n",
       "      <th>temperature</th>\n",
       "      <th>irradiance</th>\n",
       "      <th>humidity</th>\n",
       "      <th>panel_age</th>\n",
       "      <th>maintenance_count</th>\n",
       "      <th>soiling_ratio</th>\n",
       "      <th>voltage</th>\n",
       "      <th>current</th>\n",
       "      <th>module_temperature</th>\n",
       "      <th>cloud_coverage</th>\n",
       "      <th>wind_speed</th>\n",
       "      <th>pressure</th>\n",
       "      <th>string_id</th>\n",
       "      <th>error_code</th>\n",
       "      <th>installation_type</th>\n",
       "    </tr>\n",
       "  </thead>\n",
       "  <tbody>\n",
       "    <tr>\n",
       "      <th>count</th>\n",
       "      <td>12000.00000</td>\n",
       "      <td>12000.000000</td>\n",
       "      <td>12000.000000</td>\n",
       "      <td>12000.000000</td>\n",
       "      <td>12000.000000</td>\n",
       "      <td>12000.000000</td>\n",
       "      <td>12000.000000</td>\n",
       "      <td>12000.000000</td>\n",
       "      <td>12000.000000</td>\n",
       "      <td>12000.000000</td>\n",
       "      <td>12000.000000</td>\n",
       "      <td>12000.000000</td>\n",
       "      <td>12000.000000</td>\n",
       "      <td>12000.000000</td>\n",
       "      <td>12000.000000</td>\n",
       "      <td>12000.000000</td>\n",
       "    </tr>\n",
       "    <tr>\n",
       "      <th>mean</th>\n",
       "      <td>5999.50000</td>\n",
       "      <td>25.133812</td>\n",
       "      <td>503.750518</td>\n",
       "      <td>6000.286417</td>\n",
       "      <td>17.470017</td>\n",
       "      <td>3.992250</td>\n",
       "      <td>0.700315</td>\n",
       "      <td>16.358018</td>\n",
       "      <td>1.701211</td>\n",
       "      <td>30.034018</td>\n",
       "      <td>51.249278</td>\n",
       "      <td>6000.237333</td>\n",
       "      <td>6000.331917</td>\n",
       "      <td>2.501250</td>\n",
       "      <td>1.299417</td>\n",
       "      <td>1.504417</td>\n",
       "    </tr>\n",
       "    <tr>\n",
       "      <th>std</th>\n",
       "      <td>3464.24595</td>\n",
       "      <td>11.976888</td>\n",
       "      <td>244.374399</td>\n",
       "      <td>3463.878915</td>\n",
       "      <td>9.836550</td>\n",
       "      <td>1.943923</td>\n",
       "      <td>0.168015</td>\n",
       "      <td>17.993429</td>\n",
       "      <td>1.119615</td>\n",
       "      <td>11.917964</td>\n",
       "      <td>44.601778</td>\n",
       "      <td>3463.794954</td>\n",
       "      <td>3463.956848</td>\n",
       "      <td>1.120388</td>\n",
       "      <td>1.099485</td>\n",
       "      <td>1.117028</td>\n",
       "    </tr>\n",
       "    <tr>\n",
       "      <th>min</th>\n",
       "      <td>0.00000</td>\n",
       "      <td>0.000000</td>\n",
       "      <td>-564.252322</td>\n",
       "      <td>1.000000</td>\n",
       "      <td>0.013553</td>\n",
       "      <td>0.000000</td>\n",
       "      <td>0.400042</td>\n",
       "      <td>0.000000</td>\n",
       "      <td>0.000065</td>\n",
       "      <td>0.000000</td>\n",
       "      <td>0.001065</td>\n",
       "      <td>1.000000</td>\n",
       "      <td>1.000000</td>\n",
       "      <td>1.000000</td>\n",
       "      <td>0.000000</td>\n",
       "      <td>0.000000</td>\n",
       "    </tr>\n",
       "    <tr>\n",
       "      <th>25%</th>\n",
       "      <td>2999.75000</td>\n",
       "      <td>17.229078</td>\n",
       "      <td>344.612341</td>\n",
       "      <td>3000.750000</td>\n",
       "      <td>9.181074</td>\n",
       "      <td>3.000000</td>\n",
       "      <td>0.560995</td>\n",
       "      <td>0.000000</td>\n",
       "      <td>0.809862</td>\n",
       "      <td>21.998419</td>\n",
       "      <td>26.319099</td>\n",
       "      <td>3000.750000</td>\n",
       "      <td>3000.750000</td>\n",
       "      <td>1.000000</td>\n",
       "      <td>0.000000</td>\n",
       "      <td>1.000000</td>\n",
       "    </tr>\n",
       "    <tr>\n",
       "      <th>50%</th>\n",
       "      <td>5999.50000</td>\n",
       "      <td>24.887335</td>\n",
       "      <td>505.037516</td>\n",
       "      <td>6000.500000</td>\n",
       "      <td>17.402885</td>\n",
       "      <td>4.000000</td>\n",
       "      <td>0.697455</td>\n",
       "      <td>12.966453</td>\n",
       "      <td>1.565075</td>\n",
       "      <td>29.952897</td>\n",
       "      <td>49.780073</td>\n",
       "      <td>6000.500000</td>\n",
       "      <td>6000.500000</td>\n",
       "      <td>3.000000</td>\n",
       "      <td>1.000000</td>\n",
       "      <td>2.000000</td>\n",
       "    </tr>\n",
       "    <tr>\n",
       "      <th>75%</th>\n",
       "      <td>8999.25000</td>\n",
       "      <td>32.702795</td>\n",
       "      <td>660.103002</td>\n",
       "      <td>9000.250000</td>\n",
       "      <td>25.738570</td>\n",
       "      <td>5.000000</td>\n",
       "      <td>0.842465</td>\n",
       "      <td>26.194708</td>\n",
       "      <td>2.399879</td>\n",
       "      <td>37.844073</td>\n",
       "      <td>73.875998</td>\n",
       "      <td>9000.250000</td>\n",
       "      <td>9000.250000</td>\n",
       "      <td>4.000000</td>\n",
       "      <td>2.000000</td>\n",
       "      <td>3.000000</td>\n",
       "    </tr>\n",
       "    <tr>\n",
       "      <th>max</th>\n",
       "      <td>11999.00000</td>\n",
       "      <td>145.879677</td>\n",
       "      <td>1420.627376</td>\n",
       "      <td>11930.000000</td>\n",
       "      <td>34.989441</td>\n",
       "      <td>13.000000</td>\n",
       "      <td>0.999976</td>\n",
       "      <td>417.682763</td>\n",
       "      <td>7.256391</td>\n",
       "      <td>65.000000</td>\n",
       "      <td>1000.000000</td>\n",
       "      <td>11922.000000</td>\n",
       "      <td>11938.000000</td>\n",
       "      <td>4.000000</td>\n",
       "      <td>3.000000</td>\n",
       "      <td>3.000000</td>\n",
       "    </tr>\n",
       "  </tbody>\n",
       "</table>\n",
       "</div>"
      ],
      "text/plain": [
       "                id   temperature    irradiance      humidity     panel_age  \\\n",
       "count  12000.00000  12000.000000  12000.000000  12000.000000  12000.000000   \n",
       "mean    5999.50000     25.133812    503.750518   6000.286417     17.470017   \n",
       "std     3464.24595     11.976888    244.374399   3463.878915      9.836550   \n",
       "min        0.00000      0.000000   -564.252322      1.000000      0.013553   \n",
       "25%     2999.75000     17.229078    344.612341   3000.750000      9.181074   \n",
       "50%     5999.50000     24.887335    505.037516   6000.500000     17.402885   \n",
       "75%     8999.25000     32.702795    660.103002   9000.250000     25.738570   \n",
       "max    11999.00000    145.879677   1420.627376  11930.000000     34.989441   \n",
       "\n",
       "       maintenance_count  soiling_ratio       voltage       current  \\\n",
       "count       12000.000000   12000.000000  12000.000000  12000.000000   \n",
       "mean            3.992250       0.700315     16.358018      1.701211   \n",
       "std             1.943923       0.168015     17.993429      1.119615   \n",
       "min             0.000000       0.400042      0.000000      0.000065   \n",
       "25%             3.000000       0.560995      0.000000      0.809862   \n",
       "50%             4.000000       0.697455     12.966453      1.565075   \n",
       "75%             5.000000       0.842465     26.194708      2.399879   \n",
       "max            13.000000       0.999976    417.682763      7.256391   \n",
       "\n",
       "       module_temperature  cloud_coverage    wind_speed      pressure  \\\n",
       "count        12000.000000    12000.000000  12000.000000  12000.000000   \n",
       "mean            30.034018       51.249278   6000.237333   6000.331917   \n",
       "std             11.917964       44.601778   3463.794954   3463.956848   \n",
       "min              0.000000        0.001065      1.000000      1.000000   \n",
       "25%             21.998419       26.319099   3000.750000   3000.750000   \n",
       "50%             29.952897       49.780073   6000.500000   6000.500000   \n",
       "75%             37.844073       73.875998   9000.250000   9000.250000   \n",
       "max             65.000000     1000.000000  11922.000000  11938.000000   \n",
       "\n",
       "          string_id    error_code  installation_type  \n",
       "count  12000.000000  12000.000000       12000.000000  \n",
       "mean       2.501250      1.299417           1.504417  \n",
       "std        1.120388      1.099485           1.117028  \n",
       "min        1.000000      0.000000           0.000000  \n",
       "25%        1.000000      0.000000           1.000000  \n",
       "50%        3.000000      1.000000           2.000000  \n",
       "75%        4.000000      2.000000           3.000000  \n",
       "max        4.000000      3.000000           3.000000  "
      ]
     },
     "execution_count": 20,
     "metadata": {},
     "output_type": "execute_result"
    }
   ],
   "source": [
    "test_data.describe()"
   ]
  },
  {
   "cell_type": "markdown",
   "id": "45e543ff-21ba-44d3-a05f-b3b24852cb68",
   "metadata": {},
   "source": [
    "## let move to Exploratory Data Analysis(EDA)\n",
    "1. let group some data and run some analysis on them\n",
    "2. plot some graph\n",
    "3. our observations\n",
    "4. our conclusions"
   ]
  },
  {
   "cell_type": "code",
   "execution_count": 21,
   "id": "0e1b2d59-7027-4983-bb05-f566a6db1ced",
   "metadata": {},
   "outputs": [
    {
     "data": {
      "text/html": [
       "<div>\n",
       "<style scoped>\n",
       "    .dataframe tbody tr th:only-of-type {\n",
       "        vertical-align: middle;\n",
       "    }\n",
       "\n",
       "    .dataframe tbody tr th {\n",
       "        vertical-align: top;\n",
       "    }\n",
       "\n",
       "    .dataframe thead th {\n",
       "        text-align: right;\n",
       "    }\n",
       "</style>\n",
       "<table border=\"1\" class=\"dataframe\">\n",
       "  <thead>\n",
       "    <tr style=\"text-align: right;\">\n",
       "      <th></th>\n",
       "      <th>panel_age</th>\n",
       "      <th>maintenance_count</th>\n",
       "      <th>voltage</th>\n",
       "      <th>current</th>\n",
       "      <th>Rating Count</th>\n",
       "    </tr>\n",
       "  </thead>\n",
       "  <tbody>\n",
       "    <tr>\n",
       "      <th>0</th>\n",
       "      <td>0.013553</td>\n",
       "      <td>4.0</td>\n",
       "      <td>18.529087</td>\n",
       "      <td>0.812254</td>\n",
       "      <td>1</td>\n",
       "    </tr>\n",
       "    <tr>\n",
       "      <th>1</th>\n",
       "      <td>0.015410</td>\n",
       "      <td>3.0</td>\n",
       "      <td>0.000000</td>\n",
       "      <td>1.547711</td>\n",
       "      <td>1</td>\n",
       "    </tr>\n",
       "    <tr>\n",
       "      <th>2</th>\n",
       "      <td>0.019193</td>\n",
       "      <td>5.0</td>\n",
       "      <td>20.455124</td>\n",
       "      <td>4.212292</td>\n",
       "      <td>1</td>\n",
       "    </tr>\n",
       "    <tr>\n",
       "      <th>3</th>\n",
       "      <td>0.020259</td>\n",
       "      <td>2.0</td>\n",
       "      <td>0.000000</td>\n",
       "      <td>0.164478</td>\n",
       "      <td>1</td>\n",
       "    </tr>\n",
       "    <tr>\n",
       "      <th>4</th>\n",
       "      <td>0.028908</td>\n",
       "      <td>3.0</td>\n",
       "      <td>31.871992</td>\n",
       "      <td>1.031274</td>\n",
       "      <td>1</td>\n",
       "    </tr>\n",
       "    <tr>\n",
       "      <th>5</th>\n",
       "      <td>0.034943</td>\n",
       "      <td>3.0</td>\n",
       "      <td>3.373930</td>\n",
       "      <td>0.850059</td>\n",
       "      <td>1</td>\n",
       "    </tr>\n",
       "    <tr>\n",
       "      <th>6</th>\n",
       "      <td>0.042833</td>\n",
       "      <td>6.0</td>\n",
       "      <td>30.151065</td>\n",
       "      <td>2.182582</td>\n",
       "      <td>1</td>\n",
       "    </tr>\n",
       "    <tr>\n",
       "      <th>7</th>\n",
       "      <td>0.043664</td>\n",
       "      <td>3.0</td>\n",
       "      <td>18.712019</td>\n",
       "      <td>2.319603</td>\n",
       "      <td>1</td>\n",
       "    </tr>\n",
       "    <tr>\n",
       "      <th>8</th>\n",
       "      <td>0.048932</td>\n",
       "      <td>4.0</td>\n",
       "      <td>48.613846</td>\n",
       "      <td>1.941248</td>\n",
       "      <td>1</td>\n",
       "    </tr>\n",
       "    <tr>\n",
       "      <th>9</th>\n",
       "      <td>0.059431</td>\n",
       "      <td>5.0</td>\n",
       "      <td>28.019594</td>\n",
       "      <td>3.220899</td>\n",
       "      <td>1</td>\n",
       "    </tr>\n",
       "    <tr>\n",
       "      <th>10</th>\n",
       "      <td>0.066132</td>\n",
       "      <td>3.0</td>\n",
       "      <td>0.000000</td>\n",
       "      <td>1.565075</td>\n",
       "      <td>1</td>\n",
       "    </tr>\n",
       "    <tr>\n",
       "      <th>11</th>\n",
       "      <td>0.067212</td>\n",
       "      <td>3.0</td>\n",
       "      <td>30.274688</td>\n",
       "      <td>1.348014</td>\n",
       "      <td>1</td>\n",
       "    </tr>\n",
       "    <tr>\n",
       "      <th>12</th>\n",
       "      <td>0.068612</td>\n",
       "      <td>2.0</td>\n",
       "      <td>14.799825</td>\n",
       "      <td>0.452638</td>\n",
       "      <td>1</td>\n",
       "    </tr>\n",
       "    <tr>\n",
       "      <th>13</th>\n",
       "      <td>0.069028</td>\n",
       "      <td>7.0</td>\n",
       "      <td>12.090579</td>\n",
       "      <td>0.644212</td>\n",
       "      <td>1</td>\n",
       "    </tr>\n",
       "    <tr>\n",
       "      <th>14</th>\n",
       "      <td>0.069478</td>\n",
       "      <td>2.0</td>\n",
       "      <td>0.000000</td>\n",
       "      <td>1.199793</td>\n",
       "      <td>1</td>\n",
       "    </tr>\n",
       "  </tbody>\n",
       "</table>\n",
       "</div>"
      ],
      "text/plain": [
       "    panel_age  maintenance_count    voltage   current  Rating Count\n",
       "0    0.013553                4.0  18.529087  0.812254             1\n",
       "1    0.015410                3.0   0.000000  1.547711             1\n",
       "2    0.019193                5.0  20.455124  4.212292             1\n",
       "3    0.020259                2.0   0.000000  0.164478             1\n",
       "4    0.028908                3.0  31.871992  1.031274             1\n",
       "5    0.034943                3.0   3.373930  0.850059             1\n",
       "6    0.042833                6.0  30.151065  2.182582             1\n",
       "7    0.043664                3.0  18.712019  2.319603             1\n",
       "8    0.048932                4.0  48.613846  1.941248             1\n",
       "9    0.059431                5.0  28.019594  3.220899             1\n",
       "10   0.066132                3.0   0.000000  1.565075             1\n",
       "11   0.067212                3.0  30.274688  1.348014             1\n",
       "12   0.068612                2.0  14.799825  0.452638             1\n",
       "13   0.069028                7.0  12.090579  0.644212             1\n",
       "14   0.069478                2.0   0.000000  1.199793             1"
      ]
     },
     "execution_count": 21,
     "metadata": {},
     "output_type": "execute_result"
    }
   ],
   "source": [
    "perform = test_data.groupby([\"panel_age\", \"maintenance_count\", \"voltage\", \"current\"]).size().reset_index().rename(columns={0: \"Rating Count\"})\n",
    "perform[:15]"
   ]
  },
  {
   "cell_type": "code",
   "execution_count": 22,
   "id": "fce7185b-1a86-4f6b-955d-54d262975325",
   "metadata": {},
   "outputs": [
    {
     "data": {
      "image/png": "[encoded data removed]",
      "text/plain": [
       "<Figure size 600x600 with 1 Axes>"
      ]
     },
     "metadata": {},
     "output_type": "display_data"
    }
   ],
   "source": [
    "plt.rcParams[\"figure.figsize\"] = (6, 6)\n",
    "plt.pie(test_data[\"panel_age\"][:7], labels= test_data[\"maintenance_count\"][:7], autopct = \"1%.2f%%\")\n",
    "plt.title(\"panel_age vs maintenance_count\")\n",
    "plt.show()"
   ]
  },
  {
   "cell_type": "markdown",
   "id": "e00ef59b-3674-4a7d-aee5-bd0bf457e92f",
   "metadata": {},
   "source": [
    "## Observations\n",
    "1. the olds panels are with 24% maintenance which might be caused by old age.\n",
    "2.  the 8 times maintenance_count which is too often \n",
    "\n",
    "## Conclusion\n",
    "1. the 8"
   ]
  },
  {
   "cell_type": "code",
   "execution_count": 23,
   "id": "9934ed6c-70d5-48be-91f2-956b25c7512d",
   "metadata": {},
   "outputs": [
    {
     "data": {
      "text/plain": [
       "Text(0.5, 1.0, 'maintanance_count vs current')"
      ]
     },
     "execution_count": 23,
     "metadata": {},
     "output_type": "execute_result"
    },
    {
     "data": {
      "image/png": "[encoded data removed]",
      "text/plain": [
       "<Figure size 800x600 with 1 Axes>"
      ]
     },
     "metadata": {},
     "output_type": "display_data"
    }
   ],
   "source": [
    "plt.rcParams[\"figure.figsize\"] = (8, 6)\n",
    "sns.barplot(x = test_data[\"maintenance_count\"][:10], y = test_data[\"current\"][:10], data = perform)\n",
    "plt.title(\"maintanance_count vs current\")"
   ]
  },
  {
   "cell_type": "code",
   "execution_count": null,
   "id": "be405e68-6e35-4711-9d31-ee0212fc43f2",
   "metadata": {},
   "outputs": [],
   "source": []
  },
  {
   "cell_type": "code",
   "execution_count": 24,
   "id": "214e8283-ae21-4436-ba17-53e341939307",
   "metadata": {},
   "outputs": [
    {
     "data": {
      "image/png": "[encoded data removed]",
      "text/plain": [
       "<Figure size 800x600 with 1 Axes>"
      ]
     },
     "metadata": {},
     "output_type": "display_data"
    }
   ],
   "source": [
    "test_data.plot(x='current', y='voltage', kind='scatter', color='green')\n",
    "plt.title(\"current vs voltage\")\n",
    "plt.ylabel(\"voltage\")\n",
    "plt.grid(True)\n",
    "plt.show()"
   ]
  },
  {
   "cell_type": "code",
   "execution_count": null,
   "id": "3e813de1-6c66-4bf4-9977-85f606b197aa",
   "metadata": {},
   "outputs": [],
   "source": []
  },
  {
   "cell_type": "code",
   "execution_count": null,
   "id": "2ed93ad3-cd72-467a-93c7-281070c2f918",
   "metadata": {},
   "outputs": [],
   "source": []
  }
 ],
 "metadata": {
  "kernelspec": {
   "display_name": "Python 3 (ipykernel)",
   "language": "python",
   "name": "python3"
  },
  "language_info": {
   "codemirror_mode": {
    "name": "ipython",
    "version": 3
   },
   "file_extension": ".py",
   "mimetype": "text/x-python",
   "name": "python",
   "nbconvert_exporter": "python",
   "pygments_lexer": "ipython3",
   "version": "3.13.2"
  }
 },
 "nbformat": 4,
 "nbformat_minor": 5
}
